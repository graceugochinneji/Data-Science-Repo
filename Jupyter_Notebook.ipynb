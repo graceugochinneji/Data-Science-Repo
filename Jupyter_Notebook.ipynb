{
 "cells": [
  {
   "cell_type": "markdown",
   "metadata": {},
   "source": [
    "<center>\n",
    "    <img src=\"https://cf-courses-data.s3.us.cloud-object-storage.appdomain.cloud/IBMDeveloperSkillsNetwork-DS0105EN-SkillsNetwork/labs/Module2/images/SN_web_lightmode.png\" width=\"300\" alt=\"cognitiveclass.ai logo\">\n",
    "</center>\n"
   ]
  },
  {
   "cell_type": "markdown",
   "metadata": {},
   "source": [
    "#### Add your code below following the instructions given in the course\n"
   ]
  },
  {
   "cell_type": "markdown",
   "metadata": {},
   "source": [
    "Notebook"
   ]
  },
  {
   "cell_type": "markdown",
   "metadata": {},
   "source": [
    "Introduction"
   ]
  },
  {
   "cell_type": "markdown",
   "metadata": {},
   "source": [
    "Exercise 2 - Create a markdown cell with the title of the notebook. (1 pt)\n",
    "\n",
    "\n",
    "## Data Science Languages\n",
    "* Python\n",
    "* R\n",
    "* SQL\n",
    "* Julia\n",
    "* Java\n",
    "* Scala"
   ]
  },
  {
   "cell_type": "markdown",
   "metadata": {
    "tags": []
   },
   "source": [
    "Exercise 3 - Create a markdown cell for an introduction. (1 pt)\n",
    "\n",
    "## Data Science Libraries\n",
    "** Python: **\n",
    "* Pandas\n",
    "* Numpy\n",
    "* Matplotlib\n",
    "* Scikit-learn\n",
    "* Seaborn\n",
    "* Keras\n",
    "* PyTorch\n",
    "* NLTK\n",
    "* TensorFlow\n",
    "\n",
    "**R:**\n",
    "* dplyr\n",
    "* ggplot2\n",
    "* tidyr\n",
    "* shiny\n",
    "* caret\n",
    "* data.table\n",
    "* lubridate\n",
    "* stringr\n",
    "* plotly\n",
    "  "
   ]
  },
  {
   "cell_type": "markdown",
   "metadata": {},
   "source": [
    "Exercise 4 - Create a markdown cell with a table of Data Science tools. (3 pts)\n",
    "\n",
    "## Data Science Tools\n",
    "| Tool              | Description                                                     |\n",
    "|-------------------|-----------------------------------------------------------------|\n",
    "| Jupyter Notebook  | Web application for creating and sharing documents with code    |\n",
    "| RStudio           | IDE for R                                                       |\n",
    "| Anaconda          | Distribution of Python and R for data science                   |\n",
    "| Spyder            | IDE for scientific programming in Python                        |\n",
    "| VS Code           | Source-code editor developed by Microsoft                       |\n",
    "| Google Colab      | Free Jupyter notebook environment that runs in the cloud        |\n",
    "| Apache Hadoop     | Framework for distributed processing of large data sets         |\n",
    "| Apache Spark      | Unified analytics engine for large-scale data processing        |\n",
    "| Tableau           | Interactive data visualization software                         |\n",
    "| Power BI          | Business analytics service by Microsoft                         |\n",
    "| KNIME             | Open-source software for creating data science workflows        |\n",
    "| RapidMiner        | Data science software platform                                  |\n",
    "| Weka              | Collection of machine learning algorithms for data mining tasks |\n",
    "| TensorBoard       | Visualization toolkit for TensorFlow                            |\n",
    "| Git               | Version control system for tracking changes in source code      |\n",
    "| Docker            | Platform for developing, shipping, and running applications     |\n",
    "| Kubernetes        | Container-orchestration system                                  |\n",
    "| Airflow           | Platform to programmatically author, schedule, and monitor workflows |\n"
   ]
  },
  {
   "cell_type": "markdown",
   "metadata": {},
   "source": [
    "Exercise 7 - Create a markdown cell introducing arithmetic expression examples. (1 pt)\n",
    "\n",
    "## Arithmetic Expression Examples\n",
    "\n",
    "Arithmetic expressions are used to perform mathematical operations such as addition, subtraction, multiplication, and division. Below are some examples of basic arithmetic operations:\n",
    "\n",
    "1. **Addition (+)**\n",
    "   - Adds two numbers together.\n",
    "   - Example: `3 + 2 = 5`\n",
    "\n",
    "2. **Subtraction (-)**\n",
    "   - Subtracts the second number from the first number.\n",
    "   - Example: `5 - 2 = 3`\n",
    "\n",
    "3. **Multiplication (*)**\n",
    "   - Multiplies two numbers.\n",
    "   - Example: `4 * 3 = 12`\n",
    "\n",
    "4. **Division (/)** \n",
    "   - Divides the first number by the second number.\n",
    "   - Example: `10 / 2 = 5`\n",
    "\n",
    "5. **Exponentiation (**) **\n",
    "   - Raises the first number to the power of the second number.\n",
    "   - Example: `2 ** 3 = 8`\n",
    "\n",
    "6. **Modulo (%)**\n",
    "   - Returns the remainder of the division of the first number by the second number.\n",
    "   - Example: `7 % 3 = 1`\n",
    "\n",
    "These operations can be used in combination to perform more complex calculations. Below, we'll demonstrate a simple example of multiplying and adding numbers, as well as converting minutes to hours.\n"
   ]
  },
  {
   "cell_type": "code",
   "execution_count": 4,
   "metadata": {
    "tags": []
   },
   "outputs": [
    {
     "data": {
      "text/plain": [
       "13"
      ]
     },
     "execution_count": 4,
     "metadata": {},
     "output_type": "execute_result"
    }
   ],
   "source": [
    "\n",
    "#Exercise 8 - Create a code cell to multiply and add numbers. (2 pts)\n",
    "\n",
    "# Multiplying and adding numbers\n",
    "a = 5\n",
    "b = 2\n",
    "c = 3\n",
    "result = (a * b) + c\n",
    "result"
   ]
  },
  {
   "cell_type": "code",
   "execution_count": 5,
   "metadata": {
    "tags": []
   },
   "outputs": [
    {
     "data": {
      "text/plain": [
       "2.0"
      ]
     },
     "execution_count": 5,
     "metadata": {},
     "output_type": "execute_result"
    }
   ],
   "source": [
    "# Exercise 9 - Create a code cell t convert minutes to hours (2 pts)\n",
    "\n",
    "# Converting minutes to hours\n",
    "minutes = 120\n",
    "hours = minutes/60\n",
    "hours"
   ]
  },
  {
   "cell_type": "markdown",
   "metadata": {},
   "source": [
    "Exercise 10 - Insert a markdown cell to list Objectives. (3 pts)\n",
    "\n",
    "### Objectives \n",
    "\n",
    "* Understand the basics of Jupyter Notebook.\n",
    "* Learn to use Markdown for documentation.\n",
    "* Familiarize with data science languages and libraries.\n",
    "* Perform basic arithmetic operations.\n",
    "* Convert units of measurement.\n",
    "* Share and document your work effectively."
   ]
  },
  {
   "cell_type": "markdown",
   "metadata": {
    "tags": []
   },
   "source": [
    "Exercise 11 - Create a markdown cell to indicate the Author’s name. (2 pts)\n",
    "## Author - Grace Nneji"
   ]
  },
  {
   "cell_type": "code",
   "execution_count": null,
   "metadata": {},
   "outputs": [],
   "source": []
  }
 ],
 "metadata": {
  "kernelspec": {
   "display_name": "Python",
   "language": "python",
   "name": "conda-env-python-py"
  },
  "language_info": {
   "codemirror_mode": {
    "name": "ipython",
    "version": 3
   },
   "file_extension": ".py",
   "mimetype": "text/x-python",
   "name": "python",
   "nbconvert_exporter": "python",
   "pygments_lexer": "ipython3",
   "version": "3.7.12"
  }
 },
 "nbformat": 4,
 "nbformat_minor": 4
}
